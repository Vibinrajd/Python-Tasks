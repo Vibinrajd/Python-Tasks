{
 "cells": [
  {
   "cell_type": "markdown",
   "metadata": {},
   "source": [
    "1.*Write a Python program to count the number of characters (including spaces) in a string.*\n",
    "<br>\n",
    "Input: `\"Hello World\"`\n",
    "<br>\n",
    "Expected Output: `11`"
   ]
  },
  {
   "cell_type": "code",
   "execution_count": 4,
   "metadata": {},
   "outputs": [
    {
     "name": "stdout",
     "output_type": "stream",
     "text": [
      "11\n"
     ]
    }
   ],
   "source": [
    "# Type Your Python Code Here\n",
    "\n",
    "a = input('Enter input = ')\n",
    "print(len(a))"
   ]
  },
  {
   "cell_type": "markdown",
   "metadata": {},
   "source": [
    "2.*Write a Python program to reverse a given string.*\n",
    "<br>\n",
    "    Input: `Python`\n",
    "<br>\n",
    "    Expected Output: `nohtyP`"
   ]
  },
  {
   "cell_type": "code",
   "execution_count": 5,
   "metadata": {},
   "outputs": [
    {
     "name": "stdout",
     "output_type": "stream",
     "text": [
      "nohtyP\n"
     ]
    }
   ],
   "source": [
    "# Type Your Python Code Here\n",
    "\n",
    "a = input('Enter input = ')\n",
    "print(a[::-1])"
   ]
  },
  {
   "cell_type": "markdown",
   "metadata": {},
   "source": [
    "3. *Write a Python program to check if a string is a palindrome.*\n",
    "<br>\n",
    "Input: \"radar\"\n",
    "<br>\n",
    "Expected Output: True"
   ]
  },
  {
   "cell_type": "code",
   "execution_count": 6,
   "metadata": {},
   "outputs": [],
   "source": [
    "# Type Your Python Code Here\n",
    "def palindrome (a):\n",
    "    if a == a[::-1]:\n",
    "        return True\n",
    "    return False\n",
    "\n"
   ]
  },
  {
   "cell_type": "code",
   "execution_count": 12,
   "metadata": {},
   "outputs": [
    {
     "data": {
      "text/plain": [
       "True"
      ]
     },
     "execution_count": 12,
     "metadata": {},
     "output_type": "execute_result"
    }
   ],
   "source": [
    "palindrome('madam')"
   ]
  },
  {
   "cell_type": "markdown",
   "metadata": {},
   "source": [
    "4. *Write a Python program to sort words in a given string alphabetically.*\n",
    "<br>\n",
    "    Input: \"python is awesome\"\n",
    "    <br>\n",
    "    Expected Output: \"awesome is python\""
   ]
  },
  {
   "cell_type": "code",
   "execution_count": 28,
   "metadata": {},
   "outputs": [],
   "source": [
    "# Type Your Python Code Here\n",
    "def sortedwords(a):\n",
    "    b = a.split()\n",
    "    c = ' '.join(sorted(b))\n",
    "    return c"
   ]
  },
  {
   "cell_type": "code",
   "execution_count": 32,
   "metadata": {},
   "outputs": [
    {
     "data": {
      "text/plain": [
       "'awesome is python'"
      ]
     },
     "execution_count": 32,
     "metadata": {},
     "output_type": "execute_result"
    }
   ],
   "source": [
    "sortedwords('python is awesome')"
   ]
  },
  {
   "cell_type": "markdown",
   "metadata": {},
   "source": [
    "5. Write a Python program to remove all vowels from a string.\n",
    "<br>\n",
    "Input: \"Hello World\"\n",
    "<br>\n",
    "Expected Output: \"Hll Wrld\""
   ]
  },
  {
   "cell_type": "code",
   "execution_count": 44,
   "metadata": {},
   "outputs": [],
   "source": [
    "def remove_vowels(a):\n",
    "    vowels = 'aeiou'\n",
    "    b = ''\n",
    "    for i in a.lower():\n",
    "        if i not in vowels:\n",
    "            b += i\n",
    "    return b\n",
    "        \n"
   ]
  },
  {
   "cell_type": "code",
   "execution_count": 45,
   "metadata": {},
   "outputs": [
    {
     "data": {
      "text/plain": [
       "'hll wrld'"
      ]
     },
     "execution_count": 45,
     "metadata": {},
     "output_type": "execute_result"
    }
   ],
   "source": [
    "remove_vowels('HellAAAAOOo World')"
   ]
  },
  {
   "cell_type": "code",
   "execution_count": null,
   "metadata": {},
   "outputs": [],
   "source": []
  }
 ],
 "metadata": {
  "kernelspec": {
   "display_name": "basic-python",
   "language": "python",
   "name": "python3"
  },
  "language_info": {
   "codemirror_mode": {
    "name": "ipython",
    "version": 3
   },
   "file_extension": ".py",
   "mimetype": "text/x-python",
   "name": "python",
   "nbconvert_exporter": "python",
   "pygments_lexer": "ipython3",
   "version": "3.11.7"
  }
 },
 "nbformat": 4,
 "nbformat_minor": 2
}
