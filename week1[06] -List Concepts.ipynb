{
 "cells": [
  {
   "cell_type": "markdown",
   "metadata": {},
   "source": [
    "---\n",
    "1. You are developing an online shopping cart system. Write a Python program that:\n",
    "<br>\n",
    "Creates a list to store the items in the cart.\n",
    "Allows users to add items (strings) to the cart.\n",
    "Prints the contents of the cart.\n",
    "*Sample Input:*\n",
    "<br>\n",
    "User adds three items\n",
    "- item1 = \"T-shirt\"\n",
    "- item2 = \"Headphones\"\n",
    "- item3 = \"Laptop\"\n",
    "<br>\n",
    "*Sample Output:*\n",
    "\n",
    "Your cart:\n",
    "- T-shirt\n",
    "- Headphones\n",
    "- Laptop\n",
    "---"
   ]
  },
  {
   "cell_type": "code",
   "execution_count": 4,
   "metadata": {},
   "outputs": [
    {
     "name": "stdout",
     "output_type": "stream",
     "text": [
      "Your cart: \n",
      "- T-shirt\n",
      "- Headphones\n",
      "- Laptop\n"
     ]
    }
   ],
   "source": [
    "# Write your answers here\n",
    "\n",
    "def main():\n",
    "    cart = []\n",
    "\n",
    "    item1 = \"T-shirt\"\n",
    "    item2 = \"Headphones\"\n",
    "    item3 = \"Laptop\"\n",
    "\n",
    "    add_cart(cart,item1)    \n",
    "    add_cart(cart,item2)\n",
    "    add_cart(cart,item3)\n",
    "\n",
    "    print_cart(cart)\n",
    "\n",
    "def add_cart(cart,item):\n",
    "    cart.append(item)\n",
    "\n",
    "def print_cart(cart):\n",
    "    print('Your cart: ')\n",
    "    for item in cart:\n",
    "        print('-',item)\n",
    "\n",
    "if __name__ == \"__main__\":\n",
    "    main()"
   ]
  },
  {
   "cell_type": "markdown",
   "metadata": {},
   "source": [
    "---\n",
    "2.  You are working on a movie recommendation system. Write a Python program that:\n",
    "<br>\n",
    "Creates a list to store movie ratings (integers from 1 to 5).\\\n",
    "Calculates the average rating of all movies in the list.\n",
    "<br>\n",
    "    `Sample Input:`\\\n",
    "    ratings = [4, 3, 5, 2, 1]\n",
    "<br>\n",
    "    `Sample Output:`\\\n",
    "    Average rating: 3.0\n",
    "---"
   ]
  },
  {
   "cell_type": "code",
   "execution_count": 8,
   "metadata": {},
   "outputs": [
    {
     "name": "stdout",
     "output_type": "stream",
     "text": [
      "Average rating: 3.0\n"
     ]
    }
   ],
   "source": [
    "# Write your answers here\n",
    "\n",
    "def main():\n",
    "    ratings = [4,3,5,2,1]\n",
    "\n",
    "    avg_rating = calculate_avg(ratings)\n",
    "\n",
    "    print(\"Average rating:\",avg_rating)\n",
    "\n",
    "def calculate_avg(ratings):\n",
    "    total_sum = sum(ratings)\n",
    "    num_ratings = len(ratings)\n",
    "    avg_rating = total_sum/num_ratings\n",
    "    return avg_rating\n",
    "\n",
    "if __name__ == \"__main__\":\n",
    "    main()\n"
   ]
  },
  {
   "cell_type": "markdown",
   "metadata": {},
   "source": [
    "---\n",
    "3. You are planning a party and need to manage the guest list. Write a Python program that:\n",
    "\n",
    "   1. Creates a list to store guest names (strings).\n",
    "   2. Checks if a specific guest name exists in the list.\n",
    "   3. Allows users to remove a guest from the list.\n",
    "\n",
    "**Sample Input:**\n",
    "- Check if \"John\" is in the list  \n",
    "  `guest_name = \"John\"`\n",
    "\n",
    "- Remove \"Jane\" from the list  \n",
    "  `remove_name = \"Jane\"`\n",
    "\n",
    "**Sample Output:**\n",
    "```\n",
    "John is in the list: True\n",
    "Jane has been removed from the list.\n",
    "```\n",
    "---"
   ]
  },
  {
   "cell_type": "code",
   "execution_count": 9,
   "metadata": {},
   "outputs": [
    {
     "name": "stdout",
     "output_type": "stream",
     "text": [
      "John is in the list: True\n",
      "Jane has been removed from the list\n"
     ]
    }
   ],
   "source": [
    "# Write your Answer here\n",
    "\n",
    "def main():\n",
    "    guests = ['Jack','John','Jane']\n",
    "\n",
    "    guest_name = 'John'\n",
    "    remove_name = 'Jane'\n",
    "\n",
    "    check_guest(guests,guest_name)\n",
    "    remove_guest(guests,remove_name)\n",
    "\n",
    "\n",
    "def check_guest(guests,guest_name):\n",
    "    if guest_name in guests:\n",
    "        print(guest_name, 'is in the list: True')\n",
    "\n",
    "    else:\n",
    "        print(guest_name, 'is not in the list: True')\n",
    "\n",
    "def remove_guest(guests,remove_name):\n",
    "    if remove_name in guests:\n",
    "        print(remove_name, 'has been removed from the list')\n",
    "\n",
    "    else:\n",
    "        print(remove_name, 'has not been removed from the list')\n",
    "\n",
    "if __name__ == '__main__':\n",
    "    main()"
   ]
  },
  {
   "cell_type": "markdown",
   "metadata": {},
   "source": [
    "---\n",
    "4. You are analyzing a dataset of exam scores (integers). Write a Python program that:\n",
    "\n",
    "   1. Creates a list to store the exam scores.\n",
    "   2. Calculates the maximum and minimum scores in the list.\n",
    "   3. Counts the number of students who scored above a certain threshold.\n",
    "\n",
    "**Sample Input:**\n",
    "\n",
    "```\n",
    "scores = [85, 72, 98, 63, 90]\n",
    "threshold = 80\n",
    "```\n",
    "\n",
    "**Sample Output:**\n",
    "\n",
    "```\n",
    "Maximum score: 98\n",
    "Minimum score: 63\n",
    "Students above threshold: 3\n",
    "```\n",
    "\n",
    "---"
   ]
  },
  {
   "cell_type": "code",
   "execution_count": 10,
   "metadata": {},
   "outputs": [
    {
     "name": "stdout",
     "output_type": "stream",
     "text": [
      "Maximum score:  98\n",
      "Minimum score:  63\n",
      "Students above threshold:  3\n"
     ]
    }
   ],
   "source": [
    "# Write your Answer here\n",
    "\n",
    "def main():\n",
    "    scores = [85,72,98,63,90]\n",
    "    threshold = 80\n",
    "\n",
    "    max_score = max(scores)\n",
    "    min_score = min(scores)\n",
    "\n",
    "    above_threshold = count_above_threshold(scores,threshold)\n",
    "\n",
    "    print('Maximum score: ',max_score)\n",
    "    print('Minimum score: ',min_score)\n",
    "    print('Students above threshold: ',above_threshold)\n",
    "\n",
    "def count_above_threshold(scores,threshold):\n",
    "    count = sum(score > threshold for score in scores)\n",
    "    return count\n",
    "\n",
    "if __name__ == '__main__':\n",
    "    main()"
   ]
  },
  {
   "cell_type": "markdown",
   "metadata": {},
   "source": [
    "---\n",
    "5. You are working on a text summarization tool. Write a Python program that:\n",
    "\n",
    "   1. Creates a list to store words extracted from a text.\n",
    "   2. Removes stop words (common words like \"the\", \"a\", etc.) from the list.\n",
    "   3. Counts the occurrence of each unique word in the list.\n",
    "\n",
    "**Sample Input:**\n",
    "```\n",
    "text = \"This is a sample text for summarization. It contains common words.\"\n",
    "stop_words = [\"the\", \"a\", \"is\", \"for\"]\n",
    "```\n",
    "\n",
    "**Sample Output:**\n",
    "```\n",
    "Word counts:\n",
    "This: 2\n",
    "sample: 1\n",
    "text: 1\n",
    "summarization: 1\n",
    "It: 1\n",
    "contains: 1\n",
    "common: 1\n",
    "words: 1\n",
    "```\n",
    "\n",
    "---"
   ]
  },
  {
   "cell_type": "code",
   "execution_count": 5,
   "metadata": {},
   "outputs": [],
   "source": [
    "# Write your Answers here"
   ]
  },
  {
   "cell_type": "markdown",
   "metadata": {},
   "source": []
  }
 ],
 "metadata": {
  "kernelspec": {
   "display_name": "basic-python",
   "language": "python",
   "name": "python3"
  },
  "language_info": {
   "codemirror_mode": {
    "name": "ipython",
    "version": 3
   },
   "file_extension": ".py",
   "mimetype": "text/x-python",
   "name": "python",
   "nbconvert_exporter": "python",
   "pygments_lexer": "ipython3",
   "version": "3.11.7"
  }
 },
 "nbformat": 4,
 "nbformat_minor": 2
}
